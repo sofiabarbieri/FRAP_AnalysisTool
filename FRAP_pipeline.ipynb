{
 "cells": [
  {
   "cell_type": "markdown",
   "metadata": {},
   "source": [
    "### Script to extract data and tidy it for FRAP\n",
    "Working from data exported by the Nikon software into a text file, we transform it into .csv files, then tidy and output in an excel file\n",
    "\n",
    "If the Stimulation, Background and References columns are mixed, meaning not in the order S, R , B the script will manage to exchange R and B columns,\n",
    "\n",
    "but is not able to recognize if S and R are mixed so you will need to change the .csv file with the mixed columns accordingly and rerun the last \"tidy\" step"
   ]
  },
  {
   "cell_type": "code",
   "execution_count": null,
   "metadata": {},
   "outputs": [],
   "source": [
    "import re\n",
    "import os\n",
    "import pandas as pd\n",
    "import numpy as np\n",
    "import openpyxl\n",
    "import matplotlib.pyplot as plt"
   ]
  },
  {
   "cell_type": "markdown",
   "metadata": {},
   "source": [
    "Insert the path to your directory to analyze"
   ]
  },
  {
   "cell_type": "code",
   "execution_count": null,
   "metadata": {},
   "outputs": [],
   "source": [
    "directory_path = r\"\\\\nasac-m2.unige.ch\\m-GGotta\\GGotta\\Vaudano\\Data\\Microscopy\\Live\\FRAP\\Strain\\LP373\\MEX5\\20231030mNGmex-5_MEX5\\Post\""
   ]
  },
  {
   "cell_type": "markdown",
   "metadata": {},
   "source": [
    "Conversion of the .txt files to csv, be careful that there are no other .txt files than the one exported from Nikon in the folder as it could cause a crash. \n",
    "\n",
    "The cell will print the columns as a list when the Stimulation is taking place so you can see if the columns are in order"
   ]
  },
  {
   "cell_type": "code",
   "execution_count": null,
   "metadata": {},
   "outputs": [],
   "source": [
    "for filename in os.listdir(directory_path):\n",
    "    if filename.endswith(\".txt\"):\n",
    "        print(filename)\n",
    "        with open(os.path.join(directory_path, filename), 'r') as txt_file:\n",
    "            lines = txt_file.readlines()\n",
    "\n",
    "            header = [\"Name,Time [s],ND.T,ND.Z,ND.M,#1 (EGFP/pH 7),#2 (EGFP/pH 7) (R),#3 (EGFP/pH 7) (B)\\n\"]\n",
    "\n",
    "        if \"Name\" not in lines[0]:  # if header not in file because of Nikon export\n",
    "            lines = header + lines\n",
    "        else:\n",
    "            lines[0] = header[0] # standardize header between files\n",
    "\n",
    "        with open(os.path.join(directory_path, f\"{filename[:-4]}.csv\"), 'w') as csv_file:\n",
    "            lines = [re.sub(\"\\t\", \",\", line) for line in lines]  # list comprehension to replace tab by comma\n",
    "            csv_file.writelines(lines)\n",
    "            \n",
    "        print(\"S, R , B ?\\n\" + str(lines[5].split(\",\")[-3:]) +\"\\n\" \n",
    "              + str(lines[6].split(\",\")[-3:]) +\"\\n\")"
   ]
  },
  {
   "cell_type": "markdown",
   "metadata": {},
   "source": [
    "When you open the output file after running the code block below, there will be an empty \"sheet1\" sheet that you can remove, this is normal\n",
    "\n",
    "Also the name of the files used to calculate the Reff of the Stim area should start with \"reff\" so as not to be recognized by this script (because they are also .csv)"
   ]
  },
  {
   "cell_type": "code",
   "execution_count": null,
   "metadata": {},
   "outputs": [],
   "source": [
    "wb = openpyxl.Workbook()\n",
    "wb.save(filename=os.path.join(directory_path, 'output.xlsx'))"
   ]
  },
  {
   "cell_type": "code",
   "execution_count": null,
   "metadata": {},
   "outputs": [],
   "source": [
    "import scipy.optimize\n",
    "\n",
    "def Exponential(x, m, k):\n",
    "    return m * np.exp(-k * x)\n",
    "\n",
    "def tidy(file_path, output_dir):\n",
    "    df = pd.read_csv(file_path)\n",
    "\n",
    "    if df[\"#2 (EGFP/pH 7) (R)\"].values[0] < df[\"#3 (EGFP/pH 7) (B)\"].values[0]:  # switching columns B and R if they are mixed\n",
    "        df.rename(columns={\"#2 (EGFP/pH 7) (R)\": \"#3 (EGFP/pH 7) (B)\", \"#3 (EGFP/pH 7) (B)\": \"#2 (EGFP/pH 7) (R)\"}, inplace=True)\n",
    "\n",
    "    df.rename(columns={\"#1 (EGFP/pH 7)\": \"S\", \"#2 (EGFP/pH 7) (R)\":\"R\", \"#3 (EGFP/pH 7) (B)\": \"B\"}, inplace=True)  # renaming to a S, R and B\n",
    "    df.drop(columns=['ND.T', 'ND.Z', 'ND.M'], inplace=True)  # removing unnecessary columns\n",
    "\n",
    "    name = df[\"Name\"][0]  # name to give to the sheet\n",
    "    # below are the new columns creation\n",
    "    df[\"time to zero\"] = df[\"Time [s]\"].values - df[\"Time [s]\"].values[5]\n",
    "    df[\"S-B\"] = df[\"S\"].values - df[\"B\"].values\n",
    "    df[\"R-B\"] = df[\"R\"].values - df[\"B\"].values\n",
    "    df[\"S to zero\"] = df[\"S-B\"].values - df[\"S-B\"].values[5]\n",
    "\n",
    "    S_pre = np.empty(df.shape[0])\n",
    "    S_pre.fill(0)\n",
    "    S_pre[0] = np.mean(df[\"S to zero\"].values[0:5])\n",
    "    df[\"S preFRAP\"] = S_pre\n",
    "    df[\"S to one\"] = df[\"S to zero\"] / S_pre[0]\n",
    "\n",
    "    params, cv = scipy.optimize.curve_fit(f=Exponential, xdata=df[\"time to zero\"].values, \n",
    "    ydata=df[\"R-B\"].values, p0= [0, 0], bounds=(-np.inf, np.inf))\n",
    "    m, k = params\n",
    "\n",
    "    print(name)\n",
    "    print(f\"{m} * np.exp(-{k} * x)\")\n",
    "\n",
    "    try:\n",
    "        plt.clf()\n",
    "    except:\n",
    "        pass\n",
    "\n",
    "    fig, ax = plt.subplots()\n",
    "    ax.plot(df[\"time to zero\"].values, df[\"R-B\"].values, '.', label=\"data\")\n",
    "    ax.plot(df[\"time to zero\"].values, Exponential(df[\"time to zero\"].values, m, k), '--', label=\"fitted\")\n",
    "    ax.set_title(f\"Curve of {name}\\n{m} * exp(-{k} * t)\")\n",
    "    ax.set_ylabel(\"R-B\")\n",
    "    ax.set_xlabel(\"Time\")\n",
    "    ax.legend()\n",
    "    fig.savefig(os.path.join(directory_path, \"plots\", f\"{name}.png\")) \n",
    "\n",
    "    df[\"S norm\"] = df[\"S to one\"] / np.exp(-k * df[\"time to zero\"])\n",
    "\n",
    "    with pd.ExcelWriter(os.path.join(output_dir, 'output.xlsx'), mode='a') as writer:  \n",
    "        sheet_name = name.split(\"_\")\n",
    "        sheet_name = sheet_name[0] + \"_\" +  sheet_name[-1]\n",
    "        df.to_excel(writer, sheet_name=f\"{sheet_name[:-4]}\", \n",
    "                columns=['Name', 'Time [s]', 'S', 'R', 'B', 'time to zero', 'S-B', 'R-B',\n",
    "    'S to zero', 'S preFRAP', 'S to one', 'S norm'], index=False)\n",
    "        print(f\"Wrote {name} to excel with sheet name {sheet_name[:-4]}\\n\")\n",
    "\n",
    "    #print(df.head())\n",
    "\n",
    "# main\n",
    "try:\n",
    "    print(\"Creating plots directory\")\n",
    "    os.makedirs(os.path.join(directory_path, \"plots\"))\n",
    "except FileExistsError:\n",
    "    print(\"plots directory already created...\\n\")\n",
    "\n",
    "for filename in os.listdir(directory_path):\n",
    "    if filename.endswith(\".csv\") and not filename.startswith(\"reff\"):\n",
    "        tidy(os.path.join(directory_path, filename), directory_path)\n",
    "\n",
    "print(\"DONE !\")"
   ]
  },
  {
   "cell_type": "markdown",
   "metadata": {},
   "source": []
  }
 ],
 "metadata": {
  "kernelspec": {
   "display_name": "base",
   "language": "python",
   "name": "python3"
  },
  "language_info": {
   "codemirror_mode": {
    "name": "ipython",
    "version": 3
   },
   "file_extension": ".py",
   "mimetype": "text/x-python",
   "name": "python",
   "nbconvert_exporter": "python",
   "pygments_lexer": "ipython3",
   "version": "3.8.10"
  }
 },
 "nbformat": 4,
 "nbformat_minor": 2
}
